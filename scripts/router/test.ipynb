{
 "cells": [
  {
   "cell_type": "markdown",
   "metadata": {},
   "source": []
  },
  {
   "cell_type": "code",
   "execution_count": 1,
   "metadata": {},
   "outputs": [],
   "source": [
    "import pyodbc as odbc"
   ]
  },
  {
   "cell_type": "code",
   "execution_count": 2,
   "metadata": {},
   "outputs": [],
   "source": [
    "connection_string = 'Driver={ODBC Driver 17 for SQL Server};Server=tcp:otudy-team.database.windows.net,1433;Database=main-db;Uid=aketdOTUDY012023;Pwd=oT-,872%54Asdwzzsq>*90;Encrypt=yes;TrustServerCertificate=no;Connection Timeout=30;'"
   ]
  },
  {
   "cell_type": "code",
   "execution_count": 3,
   "metadata": {},
   "outputs": [
    {
     "data": {
      "text/plain": [
       "['ODBC Driver 17 for SQL Server']"
      ]
     },
     "execution_count": 3,
     "metadata": {},
     "output_type": "execute_result"
    }
   ],
   "source": [
    "odbc.drivers()"
   ]
  },
  {
   "cell_type": "code",
   "execution_count": 5,
   "metadata": {},
   "outputs": [],
   "source": [
    "conn = odbc.connect(connection_string)"
   ]
  },
  {
   "cell_type": "code",
   "execution_count": 6,
   "metadata": {},
   "outputs": [
    {
     "ename": "ProgrammingError",
     "evalue": "('42S02', \"[42S02] [Microsoft][ODBC Driver 17 for SQL Server][SQL Server]Invalid object name 'dbo.TeacherClassRelationship'. (208) (SQLExecDirectW)\")",
     "output_type": "error",
     "traceback": [
      "\u001b[0;31m---------------------------------------------------------------------------\u001b[0m",
      "\u001b[0;31mProgrammingError\u001b[0m                          Traceback (most recent call last)",
      "Cell \u001b[0;32mIn[6], line 5\u001b[0m\n\u001b[1;32m      2\u001b[0m \u001b[39mimport\u001b[39;00m \u001b[39mpprint\u001b[39;00m\n\u001b[1;32m      4\u001b[0m cursor \u001b[39m=\u001b[39m conn\u001b[39m.\u001b[39mcursor()\n\u001b[0;32m----> 5\u001b[0m result \u001b[39m=\u001b[39m cursor\u001b[39m.\u001b[39mexecute(\u001b[39m'''\u001b[39m\u001b[39m SELECT dbo.TeacherClassRelationship.class_id, dbo.TeacherClassRelationship.teacher_id, dbo.Classes.class_desc, dbo.ClassLevels.clv_name\u001b[39m\n\u001b[1;32m      6\u001b[0m \u001b[39m                            FROM dbo.TeacherClassRelationship \u001b[39m\n\u001b[1;32m      7\u001b[0m \u001b[39m                            INNER JOIN dbo.Classes\u001b[39m\n\u001b[1;32m      8\u001b[0m \u001b[39m                            ON dbo.TeacherClassRelationship.class_id = dbo.Classes.class_id\u001b[39m\n\u001b[1;32m      9\u001b[0m \u001b[39m                            INNER JOIN dbo.ClassLevels\u001b[39m\n\u001b[1;32m     10\u001b[0m \u001b[39m                            ON dbo.Classes.clv_id = dbo.ClassLevels.clv_id\u001b[39m\n\u001b[1;32m     11\u001b[0m \u001b[39m                            WHERE dbo.TeacherClassRelationship.teacher_id = \u001b[39m\u001b[39m'\u001b[39m\u001b[39mteacher@otudy.co\u001b[39m\u001b[39m'\u001b[39m\u001b[39m \u001b[39m\u001b[39m'''\u001b[39m)\u001b[39m.\u001b[39mfetchall()\n\u001b[1;32m     13\u001b[0m classes \u001b[39m=\u001b[39m []\n\u001b[1;32m     14\u001b[0m \u001b[39mfor\u001b[39;00m j \u001b[39min\u001b[39;00m result:\n",
      "\u001b[0;31mProgrammingError\u001b[0m: ('42S02', \"[42S02] [Microsoft][ODBC Driver 17 for SQL Server][SQL Server]Invalid object name 'dbo.TeacherClassRelationship'. (208) (SQLExecDirectW)\")"
     ]
    }
   ],
   "source": [
    "import json\n",
    "import pprint\n",
    "\n",
    "cursor = conn.cursor()\n",
    "result = cursor.execute(''' SELECT dbo.TeacherClassRelationship.class_id, dbo.TeacherClassRelationship.teacher_id, dbo.Classes.class_desc, dbo.ClassLevels.clv_name\n",
    "                            FROM dbo.TeacherClassRelationship \n",
    "                            INNER JOIN dbo.Classes\n",
    "                            ON dbo.TeacherClassRelationship.class_id = dbo.Classes.class_id\n",
    "                            INNER JOIN dbo.ClassLevels\n",
    "                            ON dbo.Classes.clv_id = dbo.ClassLevels.clv_id\n",
    "                            WHERE dbo.TeacherClassRelationship.teacher_id = 'teacher@otudy.co' ''').fetchall()\n",
    "\n",
    "classes = []\n",
    "for j in result:\n",
    "    class_object = {\n",
    "        'class_name': j[0],\n",
    "        'teacher': j[1],\n",
    "        'class_desc': j[2],\n",
    "        'class_level': j[3]\n",
    "    }\n",
    "    classes.append(class_object)\n",
    "\n",
    "json_send = {\n",
    "    'classes': classes\n",
    "}\n",
    "\n",
    "print(json.dumps(json_send))\n",
    "\n"
   ]
  },
  {
   "cell_type": "code",
   "execution_count": 23,
   "metadata": {},
   "outputs": [],
   "source": [
    "cursor.execute(\"INSERT INTO dbo.Affiliations (aff_name, aff_desc, aff_address) VALUES ('test02', 'การทดสอบเพิ่มองค์กรด้วย Python ครั้ง 01', 'กรุงเทพ, ประเทศไทย');\")\n",
    "conn.commit()"
   ]
  },
  {
   "cell_type": "code",
   "execution_count": 24,
   "metadata": {},
   "outputs": [
    {
     "name": "stdout",
     "output_type": "stream",
     "text": [
      "0 otudy\n",
      "3 otudy2\n",
      "4 otudy3\n",
      "5 test02\n"
     ]
    }
   ],
   "source": [
    "cursor.execute('SELECT * FROM dbo.Affiliations')\n",
    "row = cursor.fetchone()\n",
    "while row:\n",
    "    print (str(row[0]) + \" \" + str(row[1]))\n",
    "    row = cursor.fetchone()"
   ]
  },
  {
   "cell_type": "code",
   "execution_count": 25,
   "metadata": {},
   "outputs": [],
   "source": [
    "conn.close()"
   ]
  },
  {
   "cell_type": "code",
   "execution_count": 26,
   "metadata": {},
   "outputs": [
    {
     "data": {
      "text/plain": [
       "<pyodbc.Connection at 0x1061ff590>"
      ]
     },
     "execution_count": 26,
     "metadata": {},
     "output_type": "execute_result"
    }
   ],
   "source": [
    "conn"
   ]
  },
  {
   "cell_type": "code",
   "execution_count": 28,
   "metadata": {},
   "outputs": [
    {
     "data": {
      "text/plain": [
       "True"
      ]
     },
     "execution_count": 28,
     "metadata": {},
     "output_type": "execute_result"
    }
   ],
   "source": [
    "conn.closed"
   ]
  },
  {
   "cell_type": "code",
   "execution_count": 2,
   "metadata": {},
   "outputs": [
    {
     "name": "stdout",
     "output_type": "stream",
     "text": [
      "Creating a secret in otudy-users-keys called 'test' with the value '123456789aaxxczxc' ...\n"
     ]
    },
    {
     "ename": "HttpResponseError",
     "evalue": "(Forbidden) Caller is not authorized to perform action on resource.\r\nIf role assignments, deny assignments or role definitions were changed recently, please observe propagation time.\r\nCaller: appid=04b07795-8ddb-461a-bbee-02f9e1bf7b46;oid=4e5610b2-9939-4379-8dbd-81986df30dbd;iss=https://sts.windows.net/9a4a3356-2024-47fb-9c33-c3e43a5a0992/\r\nAction: 'Microsoft.KeyVault/vaults/secrets/setSecret/action'\r\nResource: '/subscriptions/4bcb1041-1d09-4e79-90f4-6ee6959de55c/resourcegroups/otudy/providers/microsoft.keyvault/vaults/otudy-users-keys/secrets/test'\r\nAssignment: (not found)\r\nDecisionReason: 'DeniedWithNoValidRBAC' \r\nVault: otudy-users-keys;location=southeastasia\r\n\nCode: Forbidden\nMessage: Caller is not authorized to perform action on resource.\r\nIf role assignments, deny assignments or role definitions were changed recently, please observe propagation time.\r\nCaller: appid=04b07795-8ddb-461a-bbee-02f9e1bf7b46;oid=4e5610b2-9939-4379-8dbd-81986df30dbd;iss=https://sts.windows.net/9a4a3356-2024-47fb-9c33-c3e43a5a0992/\r\nAction: 'Microsoft.KeyVault/vaults/secrets/setSecret/action'\r\nResource: '/subscriptions/4bcb1041-1d09-4e79-90f4-6ee6959de55c/resourcegroups/otudy/providers/microsoft.keyvault/vaults/otudy-users-keys/secrets/test'\r\nAssignment: (not found)\r\nDecisionReason: 'DeniedWithNoValidRBAC' \r\nVault: otudy-users-keys;location=southeastasia\r\n\nInner error: {\n    \"code\": \"ForbiddenByRbac\"\n}",
     "output_type": "error",
     "traceback": [
      "\u001b[0;31m---------------------------------------------------------------------------\u001b[0m",
      "\u001b[0;31mHttpResponseError\u001b[0m                         Traceback (most recent call last)",
      "Cell \u001b[0;32mIn[2], line 16\u001b[0m\n\u001b[1;32m     12\u001b[0m secretValue \u001b[39m=\u001b[39m \u001b[39minput\u001b[39m(\u001b[39m\"\u001b[39m\u001b[39mInput a value for your secret > \u001b[39m\u001b[39m\"\u001b[39m)\n\u001b[1;32m     14\u001b[0m \u001b[39mprint\u001b[39m(\u001b[39mf\u001b[39m\u001b[39m\"\u001b[39m\u001b[39mCreating a secret in \u001b[39m\u001b[39m{\u001b[39;00mkeyVaultName\u001b[39m}\u001b[39;00m\u001b[39m called \u001b[39m\u001b[39m'\u001b[39m\u001b[39m{\u001b[39;00msecretName\u001b[39m}\u001b[39;00m\u001b[39m'\u001b[39m\u001b[39m with the value \u001b[39m\u001b[39m'\u001b[39m\u001b[39m{\u001b[39;00msecretValue\u001b[39m}\u001b[39;00m\u001b[39m'\u001b[39m\u001b[39m ...\u001b[39m\u001b[39m\"\u001b[39m)\n\u001b[0;32m---> 16\u001b[0m client\u001b[39m.\u001b[39mset_secret(secretName, secretValue)\n\u001b[1;32m     18\u001b[0m \u001b[39mprint\u001b[39m(\u001b[39m\"\u001b[39m\u001b[39m done.\u001b[39m\u001b[39m\"\u001b[39m)\n\u001b[1;32m     20\u001b[0m \u001b[39mprint\u001b[39m(\u001b[39mf\u001b[39m\u001b[39m\"\u001b[39m\u001b[39mRetrieving your secret from \u001b[39m\u001b[39m{\u001b[39;00mkeyVaultName\u001b[39m}\u001b[39;00m\u001b[39m.\u001b[39m\u001b[39m\"\u001b[39m)\n",
      "File \u001b[0;32m~/anaconda3/envs/main/lib/python3.11/site-packages/azure/core/tracing/decorator.py:78\u001b[0m, in \u001b[0;36mdistributed_trace.<locals>.decorator.<locals>.wrapper_use_tracer\u001b[0;34m(*args, **kwargs)\u001b[0m\n\u001b[1;32m     76\u001b[0m span_impl_type \u001b[39m=\u001b[39m settings\u001b[39m.\u001b[39mtracing_implementation()\n\u001b[1;32m     77\u001b[0m \u001b[39mif\u001b[39;00m span_impl_type \u001b[39mis\u001b[39;00m \u001b[39mNone\u001b[39;00m:\n\u001b[0;32m---> 78\u001b[0m     \u001b[39mreturn\u001b[39;00m func(\u001b[39m*\u001b[39margs, \u001b[39m*\u001b[39m\u001b[39m*\u001b[39mkwargs)\n\u001b[1;32m     80\u001b[0m \u001b[39m# Merge span is parameter is set, but only if no explicit parent are passed\u001b[39;00m\n\u001b[1;32m     81\u001b[0m \u001b[39mif\u001b[39;00m merge_span \u001b[39mand\u001b[39;00m \u001b[39mnot\u001b[39;00m passed_in_parent:\n",
      "File \u001b[0;32m~/anaconda3/envs/main/lib/python3.11/site-packages/azure/keyvault/secrets/_client.py:128\u001b[0m, in \u001b[0;36mSecretClient.set_secret\u001b[0;34m(self, name, value, **kwargs)\u001b[0m\n\u001b[1;32m    119\u001b[0m     attributes \u001b[39m=\u001b[39m \u001b[39mNone\u001b[39;00m\n\u001b[1;32m    121\u001b[0m parameters \u001b[39m=\u001b[39m \u001b[39mself\u001b[39m\u001b[39m.\u001b[39m_models\u001b[39m.\u001b[39mSecretSetParameters(\n\u001b[1;32m    122\u001b[0m     value\u001b[39m=\u001b[39mvalue,\n\u001b[1;32m    123\u001b[0m     tags\u001b[39m=\u001b[39mkwargs\u001b[39m.\u001b[39mpop(\u001b[39m\"\u001b[39m\u001b[39mtags\u001b[39m\u001b[39m\"\u001b[39m, \u001b[39mNone\u001b[39;00m),\n\u001b[1;32m    124\u001b[0m     content_type\u001b[39m=\u001b[39mcontent_type,\n\u001b[1;32m    125\u001b[0m     secret_attributes\u001b[39m=\u001b[39mattributes\n\u001b[1;32m    126\u001b[0m )\n\u001b[0;32m--> 128\u001b[0m bundle \u001b[39m=\u001b[39m \u001b[39mself\u001b[39m\u001b[39m.\u001b[39m_client\u001b[39m.\u001b[39mset_secret(\n\u001b[1;32m    129\u001b[0m     vault_base_url\u001b[39m=\u001b[39m\u001b[39mself\u001b[39m\u001b[39m.\u001b[39mvault_url,\n\u001b[1;32m    130\u001b[0m     secret_name\u001b[39m=\u001b[39mname,\n\u001b[1;32m    131\u001b[0m     parameters\u001b[39m=\u001b[39mparameters,\n\u001b[1;32m    132\u001b[0m     error_map\u001b[39m=\u001b[39m_error_map,\n\u001b[1;32m    133\u001b[0m     \u001b[39m*\u001b[39m\u001b[39m*\u001b[39mkwargs\n\u001b[1;32m    134\u001b[0m )\n\u001b[1;32m    135\u001b[0m \u001b[39mreturn\u001b[39;00m KeyVaultSecret\u001b[39m.\u001b[39m_from_secret_bundle(bundle)\n",
      "File \u001b[0;32m~/anaconda3/envs/main/lib/python3.11/site-packages/azure/keyvault/secrets/_generated/_operations_mixin.py:2683\u001b[0m, in \u001b[0;36mKeyVaultClientOperationsMixin.set_secret\u001b[0;34m(self, vault_base_url, secret_name, parameters, **kwargs)\u001b[0m\n\u001b[1;32m   2681\u001b[0m mixin_instance\u001b[39m.\u001b[39m_serialize\u001b[39m.\u001b[39mclient_side_validation \u001b[39m=\u001b[39m \u001b[39mFalse\u001b[39;00m\n\u001b[1;32m   2682\u001b[0m mixin_instance\u001b[39m.\u001b[39m_deserialize \u001b[39m=\u001b[39m Deserializer(\u001b[39mself\u001b[39m\u001b[39m.\u001b[39m_models_dict(api_version))\n\u001b[0;32m-> 2683\u001b[0m \u001b[39mreturn\u001b[39;00m mixin_instance\u001b[39m.\u001b[39mset_secret(vault_base_url, secret_name, parameters, \u001b[39m*\u001b[39m\u001b[39m*\u001b[39mkwargs)\n",
      "File \u001b[0;32m~/anaconda3/envs/main/lib/python3.11/site-packages/azure/core/tracing/decorator.py:78\u001b[0m, in \u001b[0;36mdistributed_trace.<locals>.decorator.<locals>.wrapper_use_tracer\u001b[0;34m(*args, **kwargs)\u001b[0m\n\u001b[1;32m     76\u001b[0m span_impl_type \u001b[39m=\u001b[39m settings\u001b[39m.\u001b[39mtracing_implementation()\n\u001b[1;32m     77\u001b[0m \u001b[39mif\u001b[39;00m span_impl_type \u001b[39mis\u001b[39;00m \u001b[39mNone\u001b[39;00m:\n\u001b[0;32m---> 78\u001b[0m     \u001b[39mreturn\u001b[39;00m func(\u001b[39m*\u001b[39margs, \u001b[39m*\u001b[39m\u001b[39m*\u001b[39mkwargs)\n\u001b[1;32m     80\u001b[0m \u001b[39m# Merge span is parameter is set, but only if no explicit parent are passed\u001b[39;00m\n\u001b[1;32m     81\u001b[0m \u001b[39mif\u001b[39;00m merge_span \u001b[39mand\u001b[39;00m \u001b[39mnot\u001b[39;00m passed_in_parent:\n",
      "File \u001b[0;32m~/anaconda3/envs/main/lib/python3.11/site-packages/azure/keyvault/secrets/_generated/v7_4/operations/_key_vault_client_operations.py:477\u001b[0m, in \u001b[0;36mKeyVaultClientOperationsMixin.set_secret\u001b[0;34m(self, vault_base_url, secret_name, parameters, **kwargs)\u001b[0m\n\u001b[1;32m    475\u001b[0m     map_error(status_code\u001b[39m=\u001b[39mresponse\u001b[39m.\u001b[39mstatus_code, response\u001b[39m=\u001b[39mresponse, error_map\u001b[39m=\u001b[39merror_map)\n\u001b[1;32m    476\u001b[0m     error \u001b[39m=\u001b[39m \u001b[39mself\u001b[39m\u001b[39m.\u001b[39m_deserialize\u001b[39m.\u001b[39mfailsafe_deserialize(_models\u001b[39m.\u001b[39mKeyVaultError, pipeline_response)\n\u001b[0;32m--> 477\u001b[0m     \u001b[39mraise\u001b[39;00m HttpResponseError(response\u001b[39m=\u001b[39mresponse, model\u001b[39m=\u001b[39merror)\n\u001b[1;32m    479\u001b[0m deserialized \u001b[39m=\u001b[39m \u001b[39mself\u001b[39m\u001b[39m.\u001b[39m_deserialize(\u001b[39m\"\u001b[39m\u001b[39mSecretBundle\u001b[39m\u001b[39m\"\u001b[39m, pipeline_response)\n\u001b[1;32m    481\u001b[0m \u001b[39mif\u001b[39;00m \u001b[39mcls\u001b[39m:\n",
      "\u001b[0;31mHttpResponseError\u001b[0m: (Forbidden) Caller is not authorized to perform action on resource.\r\nIf role assignments, deny assignments or role definitions were changed recently, please observe propagation time.\r\nCaller: appid=04b07795-8ddb-461a-bbee-02f9e1bf7b46;oid=4e5610b2-9939-4379-8dbd-81986df30dbd;iss=https://sts.windows.net/9a4a3356-2024-47fb-9c33-c3e43a5a0992/\r\nAction: 'Microsoft.KeyVault/vaults/secrets/setSecret/action'\r\nResource: '/subscriptions/4bcb1041-1d09-4e79-90f4-6ee6959de55c/resourcegroups/otudy/providers/microsoft.keyvault/vaults/otudy-users-keys/secrets/test'\r\nAssignment: (not found)\r\nDecisionReason: 'DeniedWithNoValidRBAC' \r\nVault: otudy-users-keys;location=southeastasia\r\n\nCode: Forbidden\nMessage: Caller is not authorized to perform action on resource.\r\nIf role assignments, deny assignments or role definitions were changed recently, please observe propagation time.\r\nCaller: appid=04b07795-8ddb-461a-bbee-02f9e1bf7b46;oid=4e5610b2-9939-4379-8dbd-81986df30dbd;iss=https://sts.windows.net/9a4a3356-2024-47fb-9c33-c3e43a5a0992/\r\nAction: 'Microsoft.KeyVault/vaults/secrets/setSecret/action'\r\nResource: '/subscriptions/4bcb1041-1d09-4e79-90f4-6ee6959de55c/resourcegroups/otudy/providers/microsoft.keyvault/vaults/otudy-users-keys/secrets/test'\r\nAssignment: (not found)\r\nDecisionReason: 'DeniedWithNoValidRBAC' \r\nVault: otudy-users-keys;location=southeastasia\r\n\nInner error: {\n    \"code\": \"ForbiddenByRbac\"\n}"
     ]
    }
   ],
   "source": [
    "import os\n",
    "from azure.keyvault.secrets import SecretClient\n",
    "from azure.identity import DefaultAzureCredential\n",
    "\n",
    "keyVaultName = 'otudy-users-keys'\n",
    "KVUri = f\"https://{keyVaultName}.vault.azure.net\"\n",
    "\n",
    "credential = DefaultAzureCredential()\n",
    "client = SecretClient(vault_url=KVUri, credential=credential)\n",
    "\n",
    "secretName = input(\"Input a name for your secret > \")\n",
    "secretValue = input(\"Input a value for your secret > \")\n",
    "\n",
    "print(f\"Creating a secret in {keyVaultName} called '{secretName}' with the value '{secretValue}' ...\")\n",
    "\n",
    "client.set_secret(secretName, secretValue)\n",
    "\n",
    "print(\" done.\")\n",
    "\n",
    "print(f\"Retrieving your secret from {keyVaultName}.\")\n",
    "\n",
    "retrieved_secret = client.get_secret(secretName)\n",
    "\n",
    "print(f\"Your secret is '{retrieved_secret.value}'.\")\n",
    "print(f\"Deleting your secret from {keyVaultName} ...\")\n",
    "\n",
    "poller = client.begin_delete_secret(secretName)\n",
    "deleted_secret = poller.result()\n",
    "\n",
    "print(\" done.\")"
   ]
  },
  {
   "cell_type": "code",
   "execution_count": 5,
   "metadata": {},
   "outputs": [
    {
     "ename": "ModuleNotFoundError",
     "evalue": "No module named 'azure.keyvault'",
     "output_type": "error",
     "traceback": [
      "\u001b[0;31m---------------------------------------------------------------------------\u001b[0m",
      "\u001b[0;31mModuleNotFoundError\u001b[0m                       Traceback (most recent call last)",
      "Cell \u001b[0;32mIn[5], line 1\u001b[0m\n\u001b[0;32m----> 1\u001b[0m \u001b[39mfrom\u001b[39;00m \u001b[39mazure\u001b[39;00m\u001b[39m.\u001b[39;00m\u001b[39mkeyvault\u001b[39;00m \u001b[39mimport\u001b[39;00m \u001b[39m*\u001b[39m\n",
      "\u001b[0;31mModuleNotFoundError\u001b[0m: No module named 'azure.keyvault'"
     ]
    }
   ],
   "source": []
  },
  {
   "cell_type": "code",
   "execution_count": 8,
   "metadata": {},
   "outputs": [
    {
     "data": {
      "text/plain": [
       "True"
      ]
     },
     "execution_count": 8,
     "metadata": {},
     "output_type": "execute_result"
    }
   ],
   "source": [
    "import os\n",
    "from dotenv import load_dotenv\n",
    "\n",
    "load_dotenv()"
   ]
  },
  {
   "cell_type": "code",
   "execution_count": 9,
   "metadata": {},
   "outputs": [
    {
     "data": {
      "text/plain": [
       "'CnDwflTkzPzxviKR81DllzpoZBzCaDcsPrxclGkrg0Y='"
      ]
     },
     "execution_count": 9,
     "metadata": {},
     "output_type": "execute_result"
    }
   ],
   "source": []
  }
 ],
 "metadata": {
  "kernelspec": {
   "display_name": "main",
   "language": "python",
   "name": "python3"
  },
  "language_info": {
   "codemirror_mode": {
    "name": "ipython",
    "version": 3
   },
   "file_extension": ".py",
   "mimetype": "text/x-python",
   "name": "python",
   "nbconvert_exporter": "python",
   "pygments_lexer": "ipython3",
   "version": "3.11.4"
  },
  "orig_nbformat": 4
 },
 "nbformat": 4,
 "nbformat_minor": 2
}
