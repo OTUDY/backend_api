{
 "cells": [
  {
   "cell_type": "code",
   "execution_count": 1,
   "metadata": {},
   "outputs": [],
   "source": [
    "import boto3"
   ]
  },
  {
   "cell_type": "code",
   "execution_count": 3,
   "metadata": {},
   "outputs": [],
   "source": [
    "dynamodb = boto3.resource('dynamodb')"
   ]
  },
  {
   "cell_type": "code",
   "execution_count": 5,
   "metadata": {},
   "outputs": [
    {
     "name": "stdout",
     "output_type": "stream",
     "text": [
      "Status: CREATING\n"
     ]
    }
   ],
   "source": [
    "def create_books_table(dynamodb=None):\n",
    "    dynamodb = boto3.resource(\n",
    "        'dynamodb')\n",
    "    table = dynamodb.create_table(\n",
    "        TableName='Books',\n",
    "        KeySchema=[\n",
    "            {\n",
    "                'AttributeName': 'book_id',\n",
    "                'KeyType': 'HASH'  # Partition key\n",
    "            },\n",
    "            {\n",
    "                'AttributeName': 'title',\n",
    "                'KeyType': 'RANGE'  # Sort key\n",
    "            }\n",
    "        ],\n",
    "        AttributeDefinitions=[\n",
    "            {\n",
    "                'AttributeName': 'book_id',\n",
    "                # AttributeType refers to the data type 'N' for number type and 'S' stands for string type.\n",
    "                'AttributeType': 'N'\n",
    "            },\n",
    "            {\n",
    "                'AttributeName': 'title',\n",
    "                'AttributeType': 'S'\n",
    "            },\n",
    "        ],\n",
    "        ProvisionedThroughput={\n",
    "            # ReadCapacityUnits set to 10 strongly consistent reads per second\n",
    "            'ReadCapacityUnits': 10,\n",
    "            'WriteCapacityUnits': 10  # WriteCapacityUnits set to 10 writes per second\n",
    "        }\n",
    "    )\n",
    "    return table\n",
    "\n",
    "if __name__ == '__main__':\n",
    "    book_table = create_books_table()\n",
    "    print(\"Status:\", book_table.table_status)"
   ]
  },
  {
   "cell_type": "code",
   "execution_count": 6,
   "metadata": {},
   "outputs": [],
   "source": [
    "books = [\n",
    "    {\n",
    "        \"book_id\": 1000,\n",
    "        \"title\": \"Atomic habits\",\n",
    "        \"author\": \"James Clear\",\n",
    "        \"isbn\": \"34526767\",\n",
    "        \"year_of_publication\": \"2019\"\n",
    "    },\n",
    "    {\n",
    "        \"book_id\": 1001,\n",
    "        \"title\": \"Americanah\",\n",
    "        \"author\": \"Chimamanda Adichie\",\n",
    "        \"isbn\": \"10202223\",\n",
    "        \"year_of_publication\": \"2013\"\n",
    "    },\n",
    "    {\n",
    "        \"book_id\": 1002,\n",
    "        \"title\": \"Teller of secrets\",\n",
    "        \"author\": \"Bisi Adjapon\",\n",
    "        \"isbn\": \"10201120\",\n",
    "        \"year_of_publication\": \"2013\"\n",
    "    },\n",
    "    {\n",
    "        \"book_id\": 1003,\n",
    "        \"title\": \"Joys of motherhood\",\n",
    "        \"author\": \"Buchi Emecheta\",\n",
    "        \"isbn\": \"10110120\",\n",
    "        \"year_of_publication\": \"1979\" \n",
    "    },\n",
    "\n",
    "    {\n",
    "        \"book_id\": 1004,\n",
    "        \"title\": \"Purple Hibiscus\",\n",
    "        \"author\": \"Chimamanda Adichie\",\n",
    "        \"isbn\": \"10001241\",\n",
    "        \"year_of_publication\": \"2012\" \n",
    "    }\n",
    "]\n"
   ]
  },
  {
   "cell_type": "code",
   "execution_count": 7,
   "metadata": {},
   "outputs": [],
   "source": [
    "def load_data(books, dynamodb=None):\n",
    "    dynamodb = boto3.resource(\n",
    "        'dynamodb')\n",
    "\n",
    "    books_table = dynamodb.Table('Books')\n",
    "    for book in books:\n",
    "        book_id = (book['book_id'])\n",
    "        title= book['title']\n",
    "\n",
    "        print(\"Displaying book data:\", book_id, title)\n",
    "        books_table.put_item(Item=book)"
   ]
  },
  {
   "cell_type": "code",
   "execution_count": 8,
   "metadata": {},
   "outputs": [
    {
     "name": "stdout",
     "output_type": "stream",
     "text": [
      "Displaying book data: 1000 Atomic habits\n",
      "Displaying book data: 1001 Americanah\n",
      "Displaying book data: 1002 Teller of secrets\n",
      "Displaying book data: 1003 Joys of motherhood\n",
      "Displaying book data: 1004 Purple Hibiscus\n"
     ]
    }
   ],
   "source": [
    "load_data(books)"
   ]
  },
  {
   "cell_type": "code",
   "execution_count": 9,
   "metadata": {},
   "outputs": [],
   "source": [
    "dynamodb = boto3.resource('dynamodb')\n",
    "books_table = dynamodb.Table('Books')"
   ]
  },
  {
   "cell_type": "code",
   "execution_count": 13,
   "metadata": {},
   "outputs": [
    {
     "name": "stdout",
     "output_type": "stream",
     "text": [
      "{'Count': 5,\n",
      " 'Items': [{'author': 'Bisi Adjapon',\n",
      "            'book_id': Decimal('1002'),\n",
      "            'isbn': '10201120',\n",
      "            'title': 'Teller of secrets',\n",
      "            'year_of_publication': '2013'},\n",
      "           {'author': 'James Clear',\n",
      "            'book_id': Decimal('1000'),\n",
      "            'isbn': '34526767',\n",
      "            'title': 'Atomic habits',\n",
      "            'year_of_publication': '2019'},\n",
      "           {'author': 'Chimamanda Adichie',\n",
      "            'book_id': Decimal('1001'),\n",
      "            'isbn': '10202223',\n",
      "            'title': 'Americanah',\n",
      "            'year_of_publication': '2013'},\n",
      "           {'author': 'Chimamanda Adichie',\n",
      "            'book_id': Decimal('1004'),\n",
      "            'isbn': '10001241',\n",
      "            'title': 'Purple Hibiscus',\n",
      "            'year_of_publication': '2012'},\n",
      "           {'author': 'Buchi Emecheta',\n",
      "            'book_id': Decimal('1003'),\n",
      "            'isbn': '10110120',\n",
      "            'title': 'Joys of motherhood',\n",
      "            'year_of_publication': '1979'}],\n",
      " 'ResponseMetadata': {'HTTPHeaders': {'connection': 'keep-alive',\n",
      "                                      'content-length': '779',\n",
      "                                      'content-type': 'application/x-amz-json-1.0',\n",
      "                                      'date': 'Thu, 28 Sep 2023 12:06:55 GMT',\n",
      "                                      'server': 'Server',\n",
      "                                      'x-amz-crc32': '345933490',\n",
      "                                      'x-amzn-requestid': '6U4HTU2CH0T0B0ADCN5EDT4OCVVV4KQNSO5AEMVJF66Q9ASUAAJG'},\n",
      "                      'HTTPStatusCode': 200,\n",
      "                      'RequestId': '6U4HTU2CH0T0B0ADCN5EDT4OCVVV4KQNSO5AEMVJF66Q9ASUAAJG',\n",
      "                      'RetryAttempts': 0},\n",
      " 'ScannedCount': 5}\n"
     ]
    }
   ],
   "source": [
    "from pprint import pprint\n",
    "pprint(books_table.scan())"
   ]
  },
  {
   "cell_type": "code",
   "execution_count": 16,
   "metadata": {},
   "outputs": [
    {
     "data": {
      "text/plain": [
       "dynamodb.Table(name='Users')"
      ]
     },
     "execution_count": 16,
     "metadata": {},
     "output_type": "execute_result"
    }
   ],
   "source": [
    "dynamodb.create_table(\n",
    "    TableName='Users',\n",
    "    KeySchema=[\n",
    "            {\n",
    "                'AttributeName': 'id',\n",
    "                'KeyType': 'HASH'  # Partition key\n",
    "            }\n",
    "        ],\n",
    "        AttributeDefinitions=[\n",
    "            {\n",
    "                'AttributeName': 'id',\n",
    "                # AttributeType refers to the data type 'N' for number type and 'S' stands for string type.\n",
    "                'AttributeType': 'S'\n",
    "            },\n",
    "        ],\n",
    "        ProvisionedThroughput={\n",
    "            # ReadCapacityUnits set to 10 strongly consistent reads per second\n",
    "            'ReadCapacityUnits': 10,\n",
    "            'WriteCapacityUnits': 10  # WriteCapacityUnits set to 10 writes per second\n",
    "        })"
   ]
  },
  {
   "cell_type": "code",
   "execution_count": 17,
   "metadata": {},
   "outputs": [],
   "source": [
    "user_table = dynamodb.Table('Users')"
   ]
  },
  {
   "cell_type": "code",
   "execution_count": 20,
   "metadata": {},
   "outputs": [
    {
     "data": {
      "text/plain": [
       "{'ResponseMetadata': {'RequestId': 'RB5NHPPNHRBTS1SLS2BOR4M1L3VV4KQNSO5AEMVJF66Q9ASUAAJG',\n",
       "  'HTTPStatusCode': 200,\n",
       "  'HTTPHeaders': {'server': 'Server',\n",
       "   'date': 'Thu, 28 Sep 2023 12:12:59 GMT',\n",
       "   'content-type': 'application/x-amz-json-1.0',\n",
       "   'content-length': '2',\n",
       "   'connection': 'keep-alive',\n",
       "   'x-amzn-requestid': 'RB5NHPPNHRBTS1SLS2BOR4M1L3VV4KQNSO5AEMVJF66Q9ASUAAJG',\n",
       "   'x-amz-crc32': '2745614147'},\n",
       "  'RetryAttempts': 0}}"
      ]
     },
     "execution_count": 20,
     "metadata": {},
     "output_type": "execute_result"
    }
   ],
   "source": [
    "user_table.put_item(Item={\n",
    "    'id': 'user001',\n",
    "    'firstName': 'user001FirstName',\n",
    "    'lastName': 'user001LastName',\n",
    "    'phone': '001-0020003'\n",
    "})"
   ]
  },
  {
   "cell_type": "code",
   "execution_count": 22,
   "metadata": {},
   "outputs": [
    {
     "name": "stdout",
     "output_type": "stream",
     "text": [
      "{'Count': 1,\n",
      " 'Items': [{'firstName': 'user001FirstName',\n",
      "            'id': 'user001',\n",
      "            'lastName': 'user001LastName',\n",
      "            'phone': '001-0020003'}],\n",
      " 'ResponseMetadata': {'HTTPHeaders': {'connection': 'keep-alive',\n",
      "                                      'content-length': '161',\n",
      "                                      'content-type': 'application/x-amz-json-1.0',\n",
      "                                      'date': 'Thu, 28 Sep 2023 12:13:15 GMT',\n",
      "                                      'server': 'Server',\n",
      "                                      'x-amz-crc32': '3313221620',\n",
      "                                      'x-amzn-requestid': 'C2684C7EHT0HKVG14N9V6HVE4RVV4KQNSO5AEMVJF66Q9ASUAAJG'},\n",
      "                      'HTTPStatusCode': 200,\n",
      "                      'RequestId': 'C2684C7EHT0HKVG14N9V6HVE4RVV4KQNSO5AEMVJF66Q9ASUAAJG',\n",
      "                      'RetryAttempts': 0},\n",
      " 'ScannedCount': 1}\n"
     ]
    }
   ],
   "source": [
    "pprint(user_table.scan())"
   ]
  },
  {
   "cell_type": "code",
   "execution_count": 70,
   "metadata": {},
   "outputs": [
    {
     "data": {
      "text/plain": [
       "{'ResponseMetadata': {'RequestId': '1UMVENKJ55KGQJB2ELFHTBN7SBVV4KQNSO5AEMVJF66Q9ASUAAJG',\n",
       "  'HTTPStatusCode': 200,\n",
       "  'HTTPHeaders': {'server': 'Server',\n",
       "   'date': 'Thu, 28 Sep 2023 13:21:23 GMT',\n",
       "   'content-type': 'application/x-amz-json-1.0',\n",
       "   'content-length': '2',\n",
       "   'connection': 'keep-alive',\n",
       "   'x-amzn-requestid': '1UMVENKJ55KGQJB2ELFHTBN7SBVV4KQNSO5AEMVJF66Q9ASUAAJG',\n",
       "   'x-amz-crc32': '2745614147'},\n",
       "  'RetryAttempts': 0}}"
      ]
     },
     "execution_count": 70,
     "metadata": {},
     "output_type": "execute_result"
    }
   ],
   "source": [
    "user_table.get_item(Key={\n",
    "    'id': 'neko@asdasdasd.co'\n",
    "})"
   ]
  },
  {
   "cell_type": "code",
   "execution_count": 26,
   "metadata": {},
   "outputs": [
    {
     "data": {
      "text/plain": [
       "{'Items': [{'id': 'user001',\n",
       "   'phone': '001-0020003',\n",
       "   'firstName': 'user001FirstName',\n",
       "   'lastName': 'user001LastName'}],\n",
       " 'Count': 1,\n",
       " 'ScannedCount': 1,\n",
       " 'ResponseMetadata': {'RequestId': 'F2ICPV33L401KT2Q29T98KM2AFVV4KQNSO5AEMVJF66Q9ASUAAJG',\n",
       "  'HTTPStatusCode': 200,\n",
       "  'HTTPHeaders': {'server': 'Server',\n",
       "   'date': 'Thu, 28 Sep 2023 12:17:36 GMT',\n",
       "   'content-type': 'application/x-amz-json-1.0',\n",
       "   'content-length': '161',\n",
       "   'connection': 'keep-alive',\n",
       "   'x-amzn-requestid': 'F2ICPV33L401KT2Q29T98KM2AFVV4KQNSO5AEMVJF66Q9ASUAAJG',\n",
       "   'x-amz-crc32': '3313221620'},\n",
       "  'RetryAttempts': 0}}"
      ]
     },
     "execution_count": 26,
     "metadata": {},
     "output_type": "execute_result"
    }
   ],
   "source": [
    "from boto3.dynamodb.conditions import Key\n",
    "user_table.query(KeyConditionExpression=Key('id').eq('user001'))"
   ]
  },
  {
   "cell_type": "code",
   "execution_count": 27,
   "metadata": {},
   "outputs": [
    {
     "data": {
      "text/plain": [
       "{'ResponseMetadata': {'RequestId': '7F1BRAFTJ6179I1AUK9PGRN2E3VV4KQNSO5AEMVJF66Q9ASUAAJG',\n",
       "  'HTTPStatusCode': 200,\n",
       "  'HTTPHeaders': {'server': 'Server',\n",
       "   'date': 'Thu, 28 Sep 2023 12:18:59 GMT',\n",
       "   'content-type': 'application/x-amz-json-1.0',\n",
       "   'content-length': '2',\n",
       "   'connection': 'keep-alive',\n",
       "   'x-amzn-requestid': '7F1BRAFTJ6179I1AUK9PGRN2E3VV4KQNSO5AEMVJF66Q9ASUAAJG',\n",
       "   'x-amz-crc32': '2745614147'},\n",
       "  'RetryAttempts': 0}}"
      ]
     },
     "execution_count": 27,
     "metadata": {},
     "output_type": "execute_result"
    }
   ],
   "source": [
    "user_table.put_item(Item={\n",
    "    'id': 'user002',\n",
    "    'firstName': 'Test02',\n",
    "    'lastName': 'Test022',\n",
    "    'phone': '001-0020003',\n",
    "    'classId': 'P.6/2'\n",
    "})"
   ]
  },
  {
   "cell_type": "code",
   "execution_count": 28,
   "metadata": {},
   "outputs": [
    {
     "data": {
      "text/plain": [
       "{'Items': [{'classId': 'P.6/2',\n",
       "   'id': 'user002',\n",
       "   'phone': '001-0020003',\n",
       "   'firstName': 'Test02',\n",
       "   'lastName': 'Test022'},\n",
       "  {'id': 'user001',\n",
       "   'phone': '001-0020003',\n",
       "   'firstName': 'user001FirstName',\n",
       "   'lastName': 'user001LastName'}],\n",
       " 'Count': 2,\n",
       " 'ScannedCount': 2,\n",
       " 'ResponseMetadata': {'RequestId': '7P4NJQONK6BF6AKVM65CAQMFTRVV4KQNSO5AEMVJF66Q9ASUAAJG',\n",
       "  'HTTPStatusCode': 200,\n",
       "  'HTTPHeaders': {'server': 'Server',\n",
       "   'date': 'Thu, 28 Sep 2023 12:19:14 GMT',\n",
       "   'content-type': 'application/x-amz-json-1.0',\n",
       "   'content-length': '290',\n",
       "   'connection': 'keep-alive',\n",
       "   'x-amzn-requestid': '7P4NJQONK6BF6AKVM65CAQMFTRVV4KQNSO5AEMVJF66Q9ASUAAJG',\n",
       "   'x-amz-crc32': '2092779390'},\n",
       "  'RetryAttempts': 0}}"
      ]
     },
     "execution_count": 28,
     "metadata": {},
     "output_type": "execute_result"
    }
   ],
   "source": [
    "user_table.scan()"
   ]
  },
  {
   "cell_type": "code",
   "execution_count": 29,
   "metadata": {},
   "outputs": [
    {
     "data": {
      "text/plain": [
       "{'TableDescription': {'TableName': 'Books',\n",
       "  'TableStatus': 'DELETING',\n",
       "  'ProvisionedThroughput': {'NumberOfDecreasesToday': 0,\n",
       "   'ReadCapacityUnits': 10,\n",
       "   'WriteCapacityUnits': 10},\n",
       "  'TableSizeBytes': 0,\n",
       "  'ItemCount': 0,\n",
       "  'TableArn': 'arn:aws:dynamodb:ap-southeast-1:929990704715:table/Books',\n",
       "  'TableId': '12eb0b55-4d03-4ef8-9850-2c77d6f4af36',\n",
       "  'DeletionProtectionEnabled': False},\n",
       " 'ResponseMetadata': {'RequestId': 'OER2PJP704KQ3AHKREHLT2VRBJVV4KQNSO5AEMVJF66Q9ASUAAJG',\n",
       "  'HTTPStatusCode': 200,\n",
       "  'HTTPHeaders': {'server': 'Server',\n",
       "   'date': 'Thu, 28 Sep 2023 12:20:11 GMT',\n",
       "   'content-type': 'application/x-amz-json-1.0',\n",
       "   'content-length': '353',\n",
       "   'connection': 'keep-alive',\n",
       "   'x-amzn-requestid': 'OER2PJP704KQ3AHKREHLT2VRBJVV4KQNSO5AEMVJF66Q9ASUAAJG',\n",
       "   'x-amz-crc32': '3146019580'},\n",
       "  'RetryAttempts': 0}}"
      ]
     },
     "execution_count": 29,
     "metadata": {},
     "output_type": "execute_result"
    }
   ],
   "source": [
    "user_table.delete()\n",
    "book_table.delete()"
   ]
  },
  {
   "cell_type": "code",
   "execution_count": 32,
   "metadata": {},
   "outputs": [
    {
     "data": {
      "text/plain": [
       "[dynamodb.Table(name='otudy')]"
      ]
     },
     "execution_count": 32,
     "metadata": {},
     "output_type": "execute_result"
    }
   ],
   "source": [
    "list(dynamodb.tables.all())"
   ]
  },
  {
   "cell_type": "code",
   "execution_count": 33,
   "metadata": {},
   "outputs": [],
   "source": [
    "otudy_table = dynamodb.Table('otudy')"
   ]
  },
  {
   "cell_type": "code",
   "execution_count": 34,
   "metadata": {},
   "outputs": [
    {
     "data": {
      "text/plain": [
       "{'TableDescription': {'TableName': 'otudy',\n",
       "  'TableStatus': 'DELETING',\n",
       "  'ProvisionedThroughput': {'NumberOfDecreasesToday': 0,\n",
       "   'ReadCapacityUnits': 1,\n",
       "   'WriteCapacityUnits': 1},\n",
       "  'TableSizeBytes': 0,\n",
       "  'ItemCount': 0,\n",
       "  'TableArn': 'arn:aws:dynamodb:ap-southeast-1:929990704715:table/otudy',\n",
       "  'TableId': 'a1717830-39c1-4761-935b-65be2c08286e',\n",
       "  'TableClassSummary': {'TableClass': 'STANDARD'},\n",
       "  'DeletionProtectionEnabled': False},\n",
       " 'ResponseMetadata': {'RequestId': 'HJUGTCA0GL9V5DE9P293D1QCE7VV4KQNSO5AEMVJF66Q9ASUAAJG',\n",
       "  'HTTPStatusCode': 200,\n",
       "  'HTTPHeaders': {'server': 'Server',\n",
       "   'date': 'Thu, 28 Sep 2023 12:21:52 GMT',\n",
       "   'content-type': 'application/x-amz-json-1.0',\n",
       "   'content-length': '397',\n",
       "   'connection': 'keep-alive',\n",
       "   'x-amzn-requestid': 'HJUGTCA0GL9V5DE9P293D1QCE7VV4KQNSO5AEMVJF66Q9ASUAAJG',\n",
       "   'x-amz-crc32': '1116114150'},\n",
       "  'RetryAttempts': 0}}"
      ]
     },
     "execution_count": 34,
     "metadata": {},
     "output_type": "execute_result"
    }
   ],
   "source": [
    "otudy_table.delete()"
   ]
  },
  {
   "cell_type": "code",
   "execution_count": 36,
   "metadata": {},
   "outputs": [
    {
     "data": {
      "text/plain": [
       "dynamodb.Table(name='Users')"
      ]
     },
     "execution_count": 36,
     "metadata": {},
     "output_type": "execute_result"
    }
   ],
   "source": [
    "dynamodb.create_table(TableName='Users',\n",
    "                      KeySchema=[\n",
    "                        {\n",
    "                            'AttributeName': 'id',\n",
    "                            'KeyType': 'HASH'  # Partition key\n",
    "                        }\n",
    "                    ],\n",
    "                    AttributeDefinitions=[\n",
    "                        {\n",
    "                            'AttributeName': 'id',\n",
    "                            # AttributeType refers to the data type 'N' for number type and 'S' stands for string type.\n",
    "                            'AttributeType': 'S'\n",
    "                        }\n",
    "                    ],\n",
    "                    ProvisionedThroughput={\n",
    "                        # ReadCapacityUnits set to 10 strongly consistent reads per second\n",
    "                        'ReadCapacityUnits': 10,\n",
    "                        'WriteCapacityUnits': 10  # WriteCapacityUnits set to 10 writes per second\n",
    "        })"
   ]
  },
  {
   "cell_type": "code",
   "execution_count": 37,
   "metadata": {},
   "outputs": [
    {
     "data": {
      "text/plain": [
       "dynamodb.Table(name='Classes')"
      ]
     },
     "execution_count": 37,
     "metadata": {},
     "output_type": "execute_result"
    }
   ],
   "source": [
    "dynamodb.create_table(TableName='Classes',\n",
    "                      KeySchema=[\n",
    "                        {\n",
    "                            'AttributeName': 'id',\n",
    "                            'KeyType': 'HASH'  # Partition key\n",
    "                        }\n",
    "                    ],\n",
    "                    AttributeDefinitions=[\n",
    "                        {\n",
    "                            'AttributeName': 'id',\n",
    "                            # AttributeType refers to the data type 'N' for number type and 'S' stands for string type.\n",
    "                            'AttributeType': 'S'\n",
    "                        }\n",
    "                    ],\n",
    "                    ProvisionedThroughput={\n",
    "                        # ReadCapacityUnits set to 10 strongly consistent reads per second\n",
    "                        'ReadCapacityUnits': 10,\n",
    "                        'WriteCapacityUnits': 10  # WriteCapacityUnits set to 10 writes per second\n",
    "        })"
   ]
  },
  {
   "cell_type": "code",
   "execution_count": null,
   "metadata": {},
   "outputs": [],
   "source": [
    "'''\n",
    "User JSON schema\n",
    "\n",
    "    {\n",
    "        id: '',\n",
    "        firstName: '',\n",
    "        surName: '',\n",
    "        phone: '',    \n",
    "    }\n",
    "\n",
    "Class JSON schema\n",
    "    {\n",
    "        id: '',\n",
    "        level: '',\n",
    "        students: [studentId, studentId2],\n",
    "        missions: [\n",
    "            {\n",
    "                'id': '',\n",
    "                'name': '',\n",
    "                'description': '',\n",
    "                'points': 0,\n",
    "                'slotsAmount': 0,\n",
    "                'onGoingStatus': [{\n",
    "                    'studentId': '',\n",
    "                    'startedDate': ''\n",
    "                }]\n",
    "            }\n",
    "        ],\n",
    "        rewards: [\n",
    "            {\n",
    "                'id': '',\n",
    "                'name': '',\n",
    "                'description': '',\n",
    "                'spentPoints': 0,\n",
    "                'slotsAmount': 0,\n",
    "                'onGoingRedemption': [{\n",
    "                    'studentId': '',\n",
    "                    'redeemedDate': '',\n",
    "                    'status': '',\n",
    "                }]\n",
    "            }\n",
    "        ],\n",
    "        activities: [{}],\n",
    "        items: [{}],\n",
    "        teacher: [teacherId, teacherId2]\n",
    "        \n",
    "    }\n",
    "'''"
   ]
  },
  {
   "cell_type": "code",
   "execution_count": 38,
   "metadata": {},
   "outputs": [],
   "source": [
    "user_table = dynamodb.Table('Users')\n",
    "class_table = dynamodb.Table('Classes')"
   ]
  },
  {
   "cell_type": "code",
   "execution_count": 7,
   "metadata": {},
   "outputs": [],
   "source": [
    "import os\n",
    "key = os.environ.get('key')"
   ]
  },
  {
   "cell_type": "code",
   "execution_count": 8,
   "metadata": {},
   "outputs": [],
   "source": [
    "from cryptography.fernet import Fernet\n",
    "cipher = Fernet(key.encode())\n",
    "mock_users = [\n",
    "    {\n",
    "        'id': 'krittinaphat@otudy.co',\n",
    "        'hashedPassword': cipher.encrypt(b'11110000').decode(),\n",
    "        'firstName': cipher.encrypt(b'Krittinaphat'.capitalize()).decode(),\n",
    "        'lastName': cipher.encrypt(b'Srisuwan'.capitalize()).decode(),\n",
    "        'phone': cipher.encrypt(b'088-5845801').decode(),\n",
    "        'affiliation': 'otudy',\n",
    "        'role': 'teacher'\n",
    "    },\n",
    "    {\n",
    "        'id': 'neko@otudy.co',\n",
    "        'hashedPassword': cipher.encrypt(b'11110000').decode(),\n",
    "        'firstName': cipher.encrypt(b'Neko'.capitalize()).decode(),\n",
    "        'lastName': cipher.encrypt(b'The cat'.capitalize()).decode(),\n",
    "        'phone': cipher.encrypt(b'088-5845801').decode(),\n",
    "        'affiliation': 'otudy',\n",
    "        'role': 'student',\n",
    "        'points': 0,\n",
    "        'netPoints': 0\n",
    "    },\n",
    "    {\n",
    "        'id': 'shiffon@otudy.co',\n",
    "        'hashedPassword': cipher.encrypt(b'11110000').decode(),\n",
    "        'firstName': cipher.encrypt(b'Shiffon'.capitalize()).decode(),\n",
    "        'lastName': cipher.encrypt(b'The cat'.capitalize()).decode(),\n",
    "        'phone': cipher.encrypt(b'088-5845801').decode(),\n",
    "        'affiliation': 'otudy',\n",
    "        'role': 'student',\n",
    "        'points': 0,\n",
    "        'netPoints': 0\n",
    "    },\n",
    "    {\n",
    "        'id': 'tuna@otudy.co',\n",
    "        'hashedPassword': cipher.encrypt(b'11110000').decode(),\n",
    "        'firstName': cipher.encrypt(b'Tuna'.capitalize()).decode(),\n",
    "        'lastName': cipher.encrypt(b'The cat'.capitalize()).decode(),\n",
    "        'phone': cipher.encrypt(b'088-5845801').decode(),\n",
    "        'affiliation': 'otudy',\n",
    "        'role': 'student',\n",
    "        'points': 0,\n",
    "        'netPoints': 0\n",
    "    }\n",
    "]"
   ]
  },
  {
   "cell_type": "code",
   "execution_count": 74,
   "metadata": {},
   "outputs": [],
   "source": [
    "response = user_table.scan()['Items']"
   ]
  },
  {
   "cell_type": "code",
   "execution_count": 75,
   "metadata": {},
   "outputs": [
    {
     "name": "stdout",
     "output_type": "stream",
     "text": [
      "Neko\n",
      "Krittinaphat\n",
      "Tuna\n",
      "Shiffon\n"
     ]
    }
   ],
   "source": [
    "for j in response:\n",
    "    print(cipher.decrypt(j['firstName'].encode()).decode())"
   ]
  },
  {
   "cell_type": "code",
   "execution_count": 87,
   "metadata": {},
   "outputs": [
    {
     "data": {
      "text/plain": [
       "{'netPoints': Decimal('0'),\n",
       " 'role': 'student',\n",
       " 'lastName': 'gAAAAABlFYPviP4uNGgrqMb_JiWozhjkAh0xUuow3K0T7pv39E7qNaYhQrfzt0F9o7HMgDk4PnCz7JUEhLTFFG-MWAFj4w4fXQ==',\n",
       " 'points': Decimal('0'),\n",
       " 'affiliation': 'otudy',\n",
       " 'id': 'neko@otudy.co',\n",
       " 'phone': 'gAAAAABlFYPvxZbSYdBxgoq3FaQsd4-AImiDpFrDCBI_gGRsU0w1qOqZHTnJ7EsWfHQySVT3Ts8Ud6uSXjxMJpKd9hTyKJeFhA==',\n",
       " 'firstName': 'gAAAAABlFYPv0QIuihX1lKBgpXWG4dBWZ0dzvBuX8y_zBZP0H0T1V0fHq1xJ2kOpHu1ndA7n2LFrQYHzO2IOc0xOooGX5WAwUQ=='}"
      ]
     },
     "execution_count": 87,
     "metadata": {},
     "output_type": "execute_result"
    }
   ],
   "source": [
    "user_table.scan()['Items'][0]"
   ]
  },
  {
   "cell_type": "code",
   "execution_count": 61,
   "metadata": {},
   "outputs": [],
   "source": [
    "'''\n",
    "id: '',\n",
    "        level: '',\n",
    "        students: [studentId, studentId2],\n",
    "        missions: [\n",
    "            {\n",
    "                'id': '',\n",
    "                'name': '',\n",
    "                'description': '',\n",
    "                'points': 0,\n",
    "                'slotsAmount': 0,\n",
    "                'onGoingStatus': [{\n",
    "                    'studentId': '',\n",
    "                    'startedDate': ''\n",
    "                }]\n",
    "            }\n",
    "        ],\n",
    "        rewards: [\n",
    "            {\n",
    "                'id': '',\n",
    "                'name': '',\n",
    "                'description': '',\n",
    "                'spentPoints': 0,\n",
    "                'slotsAmount': 0,\n",
    "                'onGoingRedemption': [{\n",
    "                    'studentId': '',\n",
    "                    'redeemedDate': '',\n",
    "                    'status': '',\n",
    "                }]\n",
    "            }\n",
    "        ],\n",
    "        activities: [{}],\n",
    "        items: [{}],\n",
    "        teacher: [teacherId, teacherId2]\n",
    "'''\n",
    "\n",
    "import random\n",
    "\n",
    "alphabets = 'abcdefghijklmnopqrstuvwxyzABCDEFGHIJKLMNOPQRSTUVWXYZ'\n",
    "\n",
    "\n",
    "mock_classes = [\n",
    "    {\n",
    "        'id': 'P.6/2 Thai',\n",
    "        'level': 'ประถมปลาย',\n",
    "        'students': ['neko@otudy.co', 'shiffon@otudy.co', 'tuna@otudy.co'],\n",
    "        'missions': [\n",
    "            {\n",
    "                'id': ''.join(random.choice(alphabets) for i in range(5)),\n",
    "                'name': 'ภาษาไทยวันละคำ',\n",
    "                'description': 'ให้นักเรียนท่องภาษาไทย และนำมาแต่งเรื่องราวเพื่อนำมาเล่าให้ฟังหน้าชั้นเรียน',\n",
    "                'spentPoints': 50,\n",
    "                'slotsAmount': 5,\n",
    "                'expiredDate': '2023/11/25',\n",
    "                'onGoingStatus': [\n",
    "                    {\n",
    "                        'studentId': 'neko@otudy.co',\n",
    "                        'startedDate': '2023/09/28',\n",
    "                        'status': 'Doing',\n",
    "                    }\n",
    "                ]\n",
    "            }\n",
    "        ],\n",
    "        'rewards': [\n",
    "            {\n",
    "                'id': ''.join(random.choice(alphabets) for i in range(5)),\n",
    "                'name': 'อาขยานแสนน่ารู้',\n",
    "                'description': 'ให้นักเรียนแต่งบทอาขยานและนำมาท่องหน้าห้องเรียน',\n",
    "                'spentPoints': 2,\n",
    "                'slotsAmount': 10,\n",
    "                'expiredDate': '2023/11/25',\n",
    "                'onGoingRedemption': [\n",
    "                    {\n",
    "                        'studentId': 'shiffon@otudy.co',\n",
    "                        'redeemedDate': '2023/09/28',\n",
    "                        'status': 'Pending Approval'\n",
    "                    }\n",
    "                ]\n",
    "            }\n",
    "        ],\n",
    "        'activities': [{}],\n",
    "        'items': [{}],\n",
    "        'teachers': ['krittinaphat@otudy.co', 'tuna@otudy.co']\n",
    "    }\n",
    "]"
   ]
  },
  {
   "cell_type": "code",
   "execution_count": 62,
   "metadata": {},
   "outputs": [
    {
     "data": {
      "text/plain": [
       "[{'id': 'P.6/2 Thai',\n",
       "  'level': 'ประถมปลาย',\n",
       "  'students': ['neko@otudy.co', 'shiffon@otudy.co', 'tuna@otudy.co'],\n",
       "  'missions': [{'id': 'mgYcq',\n",
       "    'name': 'ภาษาไทยวันละคำ',\n",
       "    'description': 'ให้นักเรียนท่องภาษาไทย และนำมาแต่งเรื่องราวเพื่อนำมาเล่าให้ฟังหน้าชั้นเรียน',\n",
       "    'spentPoints': 50,\n",
       "    'slotsAmount': 5,\n",
       "    'expiredDate': '2023/11/25',\n",
       "    'onGoingStatus': [{'studentId': 'neko@otudy.co',\n",
       "      'startedDate': '2023/09/28',\n",
       "      'status': 'Doing'}]}],\n",
       "  'rewards': [{'id': 'KUEMa',\n",
       "    'name': 'อาขยานแสนน่ารู้',\n",
       "    'description': 'ให้นักเรียนแต่งบทอาขยานและนำมาท่องหน้าห้องเรียน',\n",
       "    'spentPoints': 2,\n",
       "    'slotsAmount': 10,\n",
       "    'expiredDate': '2023/11/25',\n",
       "    'onGoingRedemption': [{'studentId': 'shiffon@otudy.co',\n",
       "      'redeemedDate': '2023/09/28',\n",
       "      'status': 'Pending Approval'}]}],\n",
       "  'activities': [{}],\n",
       "  'items': [{}],\n",
       "  'teachers': ['krittinaphat@otudy.co', 'tuna@otudy.co']}]"
      ]
     },
     "execution_count": 62,
     "metadata": {},
     "output_type": "execute_result"
    }
   ],
   "source": [
    "mock_classes"
   ]
  },
  {
   "cell_type": "code",
   "execution_count": 63,
   "metadata": {},
   "outputs": [],
   "source": [
    "for data in mock_classes:\n",
    "    class_table.put_item(Item=data)"
   ]
  },
  {
   "cell_type": "code",
   "execution_count": 67,
   "metadata": {},
   "outputs": [
    {
     "name": "stdout",
     "output_type": "stream",
     "text": [
      "[{'activities': [{}],\n",
      "  'id': 'P.6/2 Thai',\n",
      "  'items': [{}],\n",
      "  'level': 'ประถมปลาย',\n",
      "  'missions': [{'description': 'ให้นักเรียนท่องภาษาไทย '\n",
      "                               'และนำมาแต่งเรื่องราวเพื่อนำมาเล่าให้ฟังหน้าชั้นเรียน',\n",
      "                'expiredDate': '2023/11/25',\n",
      "                'id': 'mgYcq',\n",
      "                'name': 'ภาษาไทยวันละคำ',\n",
      "                'onGoingStatus': [{'startedDate': '2023/09/28',\n",
      "                                   'status': 'Doing',\n",
      "                                   'studentId': 'neko@otudy.co'}],\n",
      "                'slotsAmount': Decimal('5'),\n",
      "                'spentPoints': Decimal('50')}],\n",
      "  'rewards': [{'description': 'ให้นักเรียนแต่งบทอาขยานและนำมาท่องหน้าห้องเรียน',\n",
      "               'expiredDate': '2023/11/25',\n",
      "               'id': 'KUEMa',\n",
      "               'name': 'อาขยานแสนน่ารู้',\n",
      "               'onGoingRedemption': [{'redeemedDate': '2023/09/28',\n",
      "                                      'status': 'Pending Approval',\n",
      "                                      'studentId': 'shiffon@otudy.co'}],\n",
      "               'slotsAmount': Decimal('10'),\n",
      "               'spentPoints': Decimal('2')}],\n",
      "  'students': ['neko@otudy.co', 'shiffon@otudy.co', 'tuna@otudy.co'],\n",
      "  'teachers': ['krittinaphat@otudy.co', 'tuna@otudy.co']}]\n"
     ]
    }
   ],
   "source": [
    "pprint(class_table.scan()['Items'])"
   ]
  },
  {
   "cell_type": "code",
   "execution_count": 4,
   "metadata": {},
   "outputs": [],
   "source": [
    "table = dynamodb.Table('Users')"
   ]
  },
  {
   "cell_type": "code",
   "execution_count": 16,
   "metadata": {},
   "outputs": [],
   "source": [
    "response = table.get_item(Key={\n",
    "    'id': 'krittinaphat@otudy.co'\n",
    "})"
   ]
  },
  {
   "cell_type": "code",
   "execution_count": 17,
   "metadata": {},
   "outputs": [
    {
     "ename": "AttributeError",
     "evalue": "'dict' object has no attribute 'save'",
     "output_type": "error",
     "traceback": [
      "\u001b[0;31m---------------------------------------------------------------------------\u001b[0m",
      "\u001b[0;31mAttributeError\u001b[0m                            Traceback (most recent call last)",
      "\u001b[1;32m/Users/magicbook/Desktop/OTUDY/backend/scripts/router/test.ipynb Cell 36\u001b[0m line \u001b[0;36m2\n\u001b[1;32m      <a href='vscode-notebook-cell:/Users/magicbook/Desktop/OTUDY/backend/scripts/router/test.ipynb#X54sZmlsZQ%3D%3D?line=0'>1</a>\u001b[0m response[\u001b[39m'\u001b[39m\u001b[39mfirstName\u001b[39m\u001b[39m'\u001b[39m] \u001b[39m=\u001b[39m \u001b[39m'\u001b[39m\u001b[39mdhongเองจ้า\u001b[39m\u001b[39m'\u001b[39m\n\u001b[0;32m----> <a href='vscode-notebook-cell:/Users/magicbook/Desktop/OTUDY/backend/scripts/router/test.ipynb#X54sZmlsZQ%3D%3D?line=1'>2</a>\u001b[0m response\u001b[39m.\u001b[39msave()\n",
      "\u001b[0;31mAttributeError\u001b[0m: 'dict' object has no attribute 'save'"
     ]
    }
   ],
   "source": [
    "response['firstName'] = 'dhongเองจ้า'\n",
    "response.save()"
   ]
  },
  {
   "cell_type": "code",
   "execution_count": 10,
   "metadata": {},
   "outputs": [],
   "source": [
    "for user in mock_users:\n",
    "    table.delete_item(Key={'id': user['id']})"
   ]
  },
  {
   "cell_type": "code",
   "execution_count": 13,
   "metadata": {},
   "outputs": [],
   "source": [
    "for user in mock_users:\n",
    "    table.put_item(Item=user)"
   ]
  },
  {
   "cell_type": "code",
   "execution_count": null,
   "metadata": {},
   "outputs": [],
   "source": []
  }
 ],
 "metadata": {
  "kernelspec": {
   "display_name": "main",
   "language": "python",
   "name": "python3"
  },
  "language_info": {
   "codemirror_mode": {
    "name": "ipython",
    "version": 3
   },
   "file_extension": ".py",
   "mimetype": "text/x-python",
   "name": "python",
   "nbconvert_exporter": "python",
   "pygments_lexer": "ipython3",
   "version": "3.11.4"
  },
  "orig_nbformat": 4
 },
 "nbformat": 4,
 "nbformat_minor": 2
}
